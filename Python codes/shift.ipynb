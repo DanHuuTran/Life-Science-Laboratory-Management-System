{
 "cells": [
  {
   "cell_type": "code",
   "execution_count": 11,
   "id": "277efd29-3476-4090-b72d-1e441543edd4",
   "metadata": {},
   "outputs": [
    {
     "name": "stdout",
     "output_type": "stream",
     "text": [
      "CSV file 'shift_data.csv' created successfully with data for the shift table.\n"
     ]
    }
   ],
   "source": [
    "import csv\n",
    "from faker import Faker\n",
    "import datetime\n",
    "\n",
    "# Initialize Faker to generate fake data\n",
    "fake = Faker()\n",
    "\n",
    "# Open the CSV file in write mode\n",
    "with open('shift_data.csv', 'w', newline='') as csvfile:\n",
    "    # Create a CSV writer object\n",
    "    csv_writer = csv.writer(csvfile)\n",
    "    \n",
    "    # Write the header row\n",
    "    csv_writer.writerow(['shift_id', 'day_of_week', 'shift_start', 'shift_end'])\n",
    "    \n",
    "    # Define the days of the week\n",
    "    days_of_week = ['Monday', 'Tuesday', 'Wednesday', 'Thursday', 'Friday', 'Saturday', 'Sunday']\n",
    "    \n",
    "    # Generate and write data for each day of the week\n",
    "    for shift_id in range(1, 150):\n",
    "        day_of_week = days_of_week[(shift_id - 1) % 7]\n",
    "        \n",
    "        # Generate random start time at exact hour\n",
    "        start_hour = fake.random_int(min=8, max=16)  # Start from 8 AM to 4 PM\n",
    "        start_time = f\"{start_hour}:00:00\"\n",
    "        \n",
    "        # Calculate end time 8 hours after start time\n",
    "        end_hour = start_hour + 8\n",
    "        end_time = f\"{end_hour}:00:00\"\n",
    "        \n",
    "        # Write the row to the CSV file\n",
    "        csv_writer.writerow([shift_id, day_of_week, start_time, end_time])\n",
    "\n",
    "print(\"CSV file 'shift_data.csv' created successfully with data for the shift table.\")"
   ]
  }
 ],
 "metadata": {
  "kernelspec": {
   "display_name": "Python 3 (ipykernel)",
   "language": "python",
   "name": "python3"
  },
  "language_info": {
   "codemirror_mode": {
    "name": "ipython",
    "version": 3
   },
   "file_extension": ".py",
   "mimetype": "text/x-python",
   "name": "python",
   "nbconvert_exporter": "python",
   "pygments_lexer": "ipython3",
   "version": "3.8.2"
  }
 },
 "nbformat": 4,
 "nbformat_minor": 5
}
