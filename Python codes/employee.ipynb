{
 "cells": [
  {
   "cell_type": "code",
   "execution_count": 6,
   "id": "ab949266-5ec1-41ec-a61b-349a2ca7d774",
   "metadata": {},
   "outputs": [
    {
     "name": "stdout",
     "output_type": "stream",
     "text": [
      "CSV file 'employees_data.csv' created successfully with 153 rows of employee data.\n"
     ]
    }
   ],
   "source": [
    "import csv\n",
    "from faker import Faker\n",
    "\n",
    "# Initialize Faker to generate fake data\n",
    "fake = Faker()\n",
    "\n",
    "# List of unique names for reporting\n",
    "report_to_names = [fake.name() for _ in range(5)]\n",
    "\n",
    "# Open the CSV file in write mode\n",
    "with open('employees_data.csv', 'w', newline='') as csvfile:\n",
    "    # Create a CSV writer object\n",
    "    csv_writer = csv.writer(csvfile)\n",
    "    \n",
    "    # Write the header row\n",
    "    csv_writer.writerow(['employeeID', 'first_name', 'last_name', 'position', 'department', 'report_to', 'hourly_rate'])\n",
    "    \n",
    "    # Generate and write 153 rows of data\n",
    "    for i in range(1, 154):\n",
    "        # Generate 5-digit employee ID\n",
    "        employeeID = fake.random_number(digits=5)\n",
    "        first_name = fake.first_name()\n",
    "        last_name = fake.last_name()\n",
    "        \n",
    "        # Adjust the distribution of positions\n",
    "        position = fake.random_element(elements=(\"analyst\", \"analyst\", \"chemist\", \"chemist\", \"technician\"))\n",
    "        \n",
    "        department = fake.random_element(elements=(\"micro\", \"chemistry\"))\n",
    "        hourly_rate = 0\n",
    "        \n",
    "        # Determine hourly rate based on position\n",
    "        if position in [\"technician\"]:\n",
    "            hourly_rate = fake.random_int(min=23, max=25)\n",
    "        elif position in [\"analyst\", \"chemist\"]:\n",
    "            hourly_rate = fake.random_int(min=28, max=30)\n",
    "        \n",
    "        # Assign a unique name from the list for the \"report_to\" field\n",
    "        report_to = report_to_names[i % 5]\n",
    "        \n",
    "        # Write the row to the CSV file\n",
    "        csv_writer.writerow([employeeID, first_name, last_name, position, department, report_to, hourly_rate])\n",
    "\n",
    "print(\"CSV file 'employees_data.csv' created successfully with 153 rows of employee data.\")\n"
   ]
  }
 ],
 "metadata": {
  "kernelspec": {
   "display_name": "Python 3 (ipykernel)",
   "language": "python",
   "name": "python3"
  },
  "language_info": {
   "codemirror_mode": {
    "name": "ipython",
    "version": 3
   },
   "file_extension": ".py",
   "mimetype": "text/x-python",
   "name": "python",
   "nbconvert_exporter": "python",
   "pygments_lexer": "ipython3",
   "version": "3.8.2"
  }
 },
 "nbformat": 4,
 "nbformat_minor": 5
}
