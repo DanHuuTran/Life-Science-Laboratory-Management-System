{
 "cells": [
  {
   "cell_type": "code",
   "execution_count": 13,
   "id": "e148028f-f52f-4cbf-bf2d-e5075c1c43ad",
   "metadata": {},
   "outputs": [
    {
     "name": "stdout",
     "output_type": "stream",
     "text": [
      "CSV file 'rota_data.csv' created successfully with data for the rota table.\n"
     ]
    }
   ],
   "source": [
    "import csv\n",
    "from faker import Faker\n",
    "import random\n",
    "import datetime\n",
    "\n",
    "# Initialize Faker to generate fake data\n",
    "fake = Faker()\n",
    "\n",
    "# Function to load shift data from CSV\n",
    "def load_shift_data(filename):\n",
    "    with open(filename, newline='') as csvfile:\n",
    "        reader = csv.DictReader(csvfile)\n",
    "        shift_data = [row for row in reader]\n",
    "    return shift_data\n",
    "\n",
    "# Function to load employee data from CSV\n",
    "def load_employee_data(filename):\n",
    "    with open(filename, newline='') as csvfile:\n",
    "        reader = csv.DictReader(csvfile)\n",
    "        employee_data = [row for row in reader]\n",
    "    return employee_data\n",
    "\n",
    "# Load shift and employee data\n",
    "shift_data = load_shift_data('shift_data.csv')\n",
    "employee_data = load_employee_data('Dummy Data/employees_data.csv')\n",
    "\n",
    "# Define the number of shifts and employees\n",
    "num_shifts = len(shift_data)\n",
    "num_employees = len(employee_data)\n",
    "\n",
    "# Define the date range\n",
    "start_date = datetime.date(2024, 1, 1)\n",
    "end_date = datetime.date(2024, 4, 30)\n",
    "\n",
    "# Open the CSV file for rota data in write mode\n",
    "with open('rota_data.csv', 'w', newline='') as csvfile:\n",
    "    # Create a CSV writer object\n",
    "    csv_writer = csv.writer(csvfile)\n",
    "    \n",
    "    # Write the header row\n",
    "    csv_writer.writerow(['rota_id', 'date', 'shift_id', 'employeeID'])\n",
    "    \n",
    "    # Generate and write data for each shift\n",
    "    for shift_row in shift_data:\n",
    "        shift_id = int(shift_row['shift_id'])\n",
    "        \n",
    "        # Generate a random date within the specified range\n",
    "        date = fake.date_between(start_date=start_date, end_date=end_date)\n",
    "        \n",
    "        # Randomly assign employees to the shift\n",
    "        employees_assigned = random.sample(employee_data, k=random.randint(1, 10))\n",
    "        \n",
    "        # Write data for each assigned employee\n",
    "        for employee_row in employees_assigned:\n",
    "            rota_id = f\"{date}_{shift_id}_{employee_row['employeeID']}\"\n",
    "            csv_writer.writerow([rota_id, date, shift_id, employee_row['employeeID']])\n",
    "\n",
    "print(\"CSV file 'rota_data.csv' created successfully with data for the rota table.\")\n"
   ]
  }
 ],
 "metadata": {
  "kernelspec": {
   "display_name": "Python 3 (ipykernel)",
   "language": "python",
   "name": "python3"
  },
  "language_info": {
   "codemirror_mode": {
    "name": "ipython",
    "version": 3
   },
   "file_extension": ".py",
   "mimetype": "text/x-python",
   "name": "python",
   "nbconvert_exporter": "python",
   "pygments_lexer": "ipython3",
   "version": "3.8.2"
  }
 },
 "nbformat": 4,
 "nbformat_minor": 5
}
