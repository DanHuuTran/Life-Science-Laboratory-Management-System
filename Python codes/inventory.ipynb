{
 "cells": [
  {
   "cell_type": "code",
   "execution_count": 4,
   "id": "bbb10e6d-a8a7-429e-a661-0ef4948ab1e2",
   "metadata": {},
   "outputs": [
    {
     "name": "stdout",
     "output_type": "stream",
     "text": [
      "CSV file 'inventory_data.csv' created successfully with data for the inventory table.\n"
     ]
    }
   ],
   "source": [
    "import csv\n",
    "import random\n",
    "\n",
    "# List of reagents and other items with adjusted prices\n",
    "items = [\n",
    "    {\"item\": \"microfilm\", \"price\": 10},\n",
    "    {\"item\": \"petrifilm\", \"price\": 10},\n",
    "    {\"item\": \"ES6 buffer\", \"price\": 20},\n",
    "    {\"item\": \"LG buffer\", \"price\": 20},\n",
    "    {\"item\": \"EC& buffer\", \"price\": 20},\n",
    "    {\"item\": \"LM buffer\", \"price\": 20},\n",
    "    {\"item\": \"HPLC\", \"price\": 35},\n",
    "    {\"item\": \"TLC\", \"price\": 40},\n",
    "    {\"item\": \"pipette tips\", \"price\": 5},\n",
    "    {\"item\": \"dilution tubes\", \"price\": 4},\n",
    "    {\"item\": \"agar rose\", \"price\": 10},\n",
    "    {\"item\": \"BPW\", \"price\": 6},\n",
    "    {\"item\": \"bleach\", \"price\": 5},\n",
    "    {\"item\": \"ethanol\", \"price\": 12},\n",
    "    {\"item\": \"printing paper\", \"price\": 5},\n",
    "    {\"item\": \"marker\", \"price\": 5},\n",
    "    {\"item\": \"media\", \"price\": 6},\n",
    "    {\"item\": \"methanol\", \"price\": 10},\n",
    "    {\"item\": \"solvent\", \"price\": 7},\n",
    "    {\"item\": \"paper towel\", \"price\": 3},\n",
    "    {\"item\": \"whirl pak bag\", \"price\": 7}\n",
    "]\n",
    "\n",
    "# Open the CSV file in write mode\n",
    "with open('inventory_data.csv', 'w', newline='') as csvfile:\n",
    "    # Create a CSV writer object\n",
    "    csv_writer = csv.writer(csvfile)\n",
    "    \n",
    "    # Write the header row\n",
    "    csv_writer.writerow(['item', 'quantity', 'price'])\n",
    "    \n",
    "    # Write data for each item\n",
    "    for item in items:\n",
    "        # Generate random quantity between 30 and 200\n",
    "        quantity = random.randint(30, 200)\n",
    "        \n",
    "        # Write the row to the CSV file\n",
    "        csv_writer.writerow([item[\"item\"], quantity, item[\"price\"]])\n",
    "\n",
    "print(\"CSV file 'inventory_data.csv' created successfully with data for the inventory table.\")\n"
   ]
  }
 ],
 "metadata": {
  "kernelspec": {
   "display_name": "Python 3 (ipykernel)",
   "language": "python",
   "name": "python3"
  },
  "language_info": {
   "codemirror_mode": {
    "name": "ipython",
    "version": 3
   },
   "file_extension": ".py",
   "mimetype": "text/x-python",
   "name": "python",
   "nbconvert_exporter": "python",
   "pygments_lexer": "ipython3",
   "version": "3.8.2"
  }
 },
 "nbformat": 4,
 "nbformat_minor": 5
}
