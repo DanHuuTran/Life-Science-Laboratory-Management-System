{
 "cells": [
  {
   "cell_type": "code",
   "execution_count": 3,
   "id": "fe7a55d0-4d09-4995-9274-2a3a06aafc7c",
   "metadata": {},
   "outputs": [
    {
     "name": "stdout",
     "output_type": "stream",
     "text": [
      "CSV file 'customers_data.csv' created successfully with 500 customers in California with 10-digit phone numbers.\n"
     ]
    }
   ],
   "source": [
    "import csv\n",
    "from faker import Faker\n",
    "import random\n",
    "\n",
    "# Initialize Faker to generate fake data\n",
    "fake = Faker()\n",
    "\n",
    "# List of real cities in California\n",
    "california_cities = [\n",
    "    \"Los Angeles\", \"San Diego\", \"San Jose\", \"San Francisco\", \"Fresno\", \"Sacramento\",\n",
    "    \"Long Beach\", \"Oakland\", \"Bakersfield\", \"Anaheim\", \"Santa Ana\", \"Riverside\",\n",
    "    \"Stockton\", \"Irvine\", \"Chula Vista\", \"Fremont\", \"San Bernardino\", \"Modesto\",\n",
    "    \"Fontana\", \"Oxnard\", \"Moreno Valley\", \"Glendale\", \"Huntington Beach\", \"Santa Clarita\",\n",
    "    \"Garden Grove\", \"Oceanside\", \"Santa Rosa\", \"Rancho Cucamonga\", \"Ontario\", \"Lancaster\",\n",
    "    \"Elk Grove\", \"Corona\", \"Palmdale\", \"Salinas\", \"Pomona\", \"Hayward\", \"Escondido\",\n",
    "    \"Sunnyvale\", \"Pasadena\", \"Orange\", \"Fullerton\", \"Thousand Oaks\", \"Visalia\", \"Simi Valley\",\n",
    "    \"Concord\", \"Roseville\", \"Santa Clara\", \"Vallejo\", \"Victorville\"\n",
    "]\n",
    "\n",
    "# Open the CSV file in write mode\n",
    "with open('customers_data.csv', 'w', newline='') as csvfile:\n",
    "    # Create a CSV writer object\n",
    "    csv_writer = csv.writer(csvfile)\n",
    "    \n",
    "    # Write the header row\n",
    "    csv_writer.writerow(['customerID', 'company_name', 'address', 'city', 'state', 'phone'])\n",
    "    \n",
    "    # Generate and write 500 rows of data\n",
    "    for i in range(1, 501):\n",
    "        customerID = i\n",
    "        company_name = fake.company()\n",
    "        address = fake.street_address()\n",
    "        city = random.choice(california_cities)  # Select random city from the list\n",
    "        state = \"California\"  # Set state to California\n",
    "        \n",
    "        # Generate a random 10-digit phone number\n",
    "        phone = ''.join([str(random.randint(0, 9)) for _ in range(10)])\n",
    "        \n",
    "        # Write the row to the CSV file\n",
    "        csv_writer.writerow([customerID, company_name, address, city, state, phone])\n",
    "\n",
    "print(\"CSV file 'customers_data.csv' created successfully with 500 customers in California with 10-digit phone numbers.\")\n"
   ]
  }
 ],
 "metadata": {
  "kernelspec": {
   "display_name": "Python 3 (ipykernel)",
   "language": "python",
   "name": "python3"
  },
  "language_info": {
   "codemirror_mode": {
    "name": "ipython",
    "version": 3
   },
   "file_extension": ".py",
   "mimetype": "text/x-python",
   "name": "python",
   "nbconvert_exporter": "python",
   "pygments_lexer": "ipython3",
   "version": "3.8.2"
  }
 },
 "nbformat": 4,
 "nbformat_minor": 5
}
