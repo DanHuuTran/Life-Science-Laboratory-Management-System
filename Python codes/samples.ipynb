{
 "cells": [
  {
   "cell_type": "code",
   "execution_count": 10,
   "id": "7f76e3af-daa9-4f19-adec-4bc8afb03163",
   "metadata": {},
   "outputs": [
    {
     "name": "stdout",
     "output_type": "stream",
     "text": [
      "CSV file 'samples_data_with_result.csv' created successfully with 10,000 rows of data including result column.\n"
     ]
    }
   ],
   "source": [
    "import csv\n",
    "from faker import Faker\n",
    "import random\n",
    "\n",
    "# Initialize Faker to generate fake data\n",
    "fake = Faker()\n",
    "\n",
    "# Open the CSV file in write mode\n",
    "with open('samples_data_with_result.csv', 'w', newline='') as csvfile:\n",
    "    # Create a CSV writer object\n",
    "    csv_writer = csv.writer(csvfile)\n",
    "    \n",
    "    # Write the header row\n",
    "    csv_writer.writerow(['sample_id', 'customerID', 'num_sample', 'test_name', 'receive_date', 'analysis_date', 'report_date', 'result'])\n",
    "    \n",
    "    # Generate and write 10,000 rows of data\n",
    "    for i in range(1, 10001):\n",
    "        sample_id = i\n",
    "        customerID = random.randint(1, 100)  # Assuming you have 100 customers\n",
    "        num_sample = fake.random_int(min=1, max=100)\n",
    "        test_name = fake.random_element(elements=(\"Salmonella\", \"Listeria Spp\", \"EO157\", \"Listeria Mono\", \"Aflatoxin\", \"Ochratoxin\", \"Aerobic Place Count\", \"Total Coliform\", \"E.Coli Count\", \"Yeast\", \"Mold\", \"Staph\", \"Enterobateria\"))\n",
    "        receive_date = fake.date_this_year()\n",
    "        analysis_date = fake.date_between(start_date=receive_date, end_date='today')\n",
    "        report_date = fake.date_between(start_date=analysis_date, end_date='today')\n",
    "        \n",
    "        # Assign result based on test type\n",
    "        if test_name in [\"Salmonella\", \"EO157\", \"Listeria Spp\", \"Listeria Mono\"]:\n",
    "            # 95% chance of being negative for qualitative tests\n",
    "            result = \"Negative\" if random.random() <= 0.95 else \"Positive\"\n",
    "        else:\n",
    "            # \"<1\" for 90% of quantitative tests\n",
    "            result = \"<1\" if random.random() <= 0.9 else random.randint(1, 10000)\n",
    "        \n",
    "        # Write the row to the CSV file\n",
    "        csv_writer.writerow([sample_id, customerID, num_sample, test_name, receive_date, analysis_date, report_date, result])\n",
    "\n",
    "print(\"CSV file 'samples_data_with_result.csv' created successfully with 10,000 rows of data including result column.\")\n"
   ]
  }
 ],
 "metadata": {
  "kernelspec": {
   "display_name": "Python 3 (ipykernel)",
   "language": "python",
   "name": "python3"
  },
  "language_info": {
   "codemirror_mode": {
    "name": "ipython",
    "version": 3
   },
   "file_extension": ".py",
   "mimetype": "text/x-python",
   "name": "python",
   "nbconvert_exporter": "python",
   "pygments_lexer": "ipython3",
   "version": "3.8.2"
  }
 },
 "nbformat": 4,
 "nbformat_minor": 5
}
